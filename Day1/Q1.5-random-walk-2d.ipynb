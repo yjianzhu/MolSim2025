{
 "cells": [
  {
   "cell_type": "code",
   "execution_count": 1,
   "id": "7ad7a9a3-8474-4df8-8af0-0c6d31ee17b3",
   "metadata": {},
   "outputs": [],
   "source": [
    "import numpy as np\n",
    "from scipy.stats import linregress\n",
    "import matplotlib.pyplot as plt"
   ]
  },
  {
   "cell_type": "markdown",
   "id": "5134fdd7-3637-41e7-8323-5a47a8942fdc",
   "metadata": {},
   "source": [
    "# Statistical Mechanics\n",
    "## Random Walk on a 2D lattice\n",
    "Consider the random walk of $N$ particles on a $M \\times M$ lattice.\n",
    "Two particles cannot occupy the same lattice site.\n",
    "On this lattice, periodic boundaries are used.\n",
    "This means that when a particle leaves the lattice it returns on the opposite side of the lattice.\n",
    "\n",
    "![random2d](https://bohrium.oss-cn-zhangjiakou.aliyuncs.com/article/12024/b612fb9b71d347f2a37c24212cf86389/f6e099d4-ada5-4845-8b1e-7ef7760ea189.png)\n",
    "\n",
    "*A random walk of $N$ particles on a $M \\times M$ lattice. One of the particles\n",
    " is chosen at random (the green one). Next, one of the four (up, down, left, right)\n",
    " directions is chosen. Only if the site is empty the jump is allowed. In this example\n",
    " the jump of the green particle to the left would be rejected. Particles leaving\n",
    " the lattice are put back at the other end of the lattice (periodic boundary conditions).*"
   ]
  },
  {
   "cell_type": "markdown",
   "id": "2372dbb1-096d-4e14-84e9-c55aebf48fab",
   "metadata": {},
   "source": [
    "1. What is the fraction of occupied sites ($\\theta$) of the lattice as\n",
    "a function of $M$ and $N$?"
   ]
  },
  {
   "cell_type": "markdown",
   "id": "eb23beb2-ce98-4651-9c3b-322d422cb55d",
   "metadata": {},
   "source": [
    "$\\frac{N}{M^2}$"
   ]
  },
  {
   "cell_type": "markdown",
   "id": "d728cac6-6ce6-4598-b232-56f03fb5c732",
   "metadata": {},
   "source": [
    "2. Make a plot of the diffusion coefficient $D$ as a function of\n",
    "  $\\theta$ for $M=32$. For low values of $\\theta$, the diffusion\n",
    "  coefficient can be approximated by\n",
    "\\begin{equation}\n",
    "D \\approx D_0 \\left(1-\\theta\\right),\n",
    "\\end{equation}\n",
    "where $D_0$ is the diffusion coefficient at inifite dilution (one\n",
    "particle on an empty lattice).  Derive this equation. Why is this\n",
    "equation not exact? "
   ]
  },
  {
   "cell_type": "code",
   "execution_count": 2,
   "id": "074fb694-4521-4bb8-b280-55cc0601e147",
   "metadata": {},
   "outputs": [],
   "source": [
    "def build_lattice(n: int, m: int) -> (np.ndarray, np.ndarray):\n",
    "    \"\"\"\n",
    "    Create an m*m lattice with n particles.\n",
    "\n",
    "    `lattice` is an m x m array of boolean values, `True` if the lattice site is occupied, `False` if not\n",
    "    `coordinates` is an n x 2 array of particle coordinates\n",
    "    \"\"\"\n",
    "    lattice = np.zeros(m * m, dtype=bool)\n",
    "    occupied = np.random.choice(range(0, m*m), n, replace=False)\n",
    "    lattice[occupied] = True\n",
    "    lattice = lattice.reshape(m, m)\n",
    "    assert lattice.sum() == n\n",
    "    x, y = np.where(lattice)\n",
    "    coordinates = np.vstack([x, y]).T\n",
    "\n",
    "    return lattice, coordinates"
   ]
  },
  {
   "cell_type": "code",
   "execution_count": 10,
   "id": "8976b4de-cf33-486e-a79b-6682d75ab6cb",
   "metadata": {},
   "outputs": [],
   "source": [
    "def displace(coordinates: np.ndarray, n: int, m: int, lattice: np.ndarray) -> None:\n",
    "    \"\"\"\n",
    "    Randomly select a particle and try to move it in a random direction.\n",
    "    \n",
    "    Args:\n",
    "        coordinates: n x 2 array of particle coordinates\n",
    "        n: number of particles\n",
    "        m: lattice size\n",
    "        lattice: m x m array, True if site is occupied\n",
    "    \"\"\"\n",
    "    # Select a random particle\n",
    "    particle_idx = np.random.randint(0, n)\n",
    "    \n",
    "    # Get current position\n",
    "    x, y = coordinates[particle_idx]\n",
    "    \n",
    "    # Select a random direction (0: up, 1: right, 2: down, 3: left)\n",
    "    direction = np.random.randint(0, 4)\n",
    "    \n",
    "    # Calculate new position based on direction\n",
    "    if direction == 0:  # up\n",
    "        new_x, new_y = x - 1, y\n",
    "    elif direction == 1:  # right\n",
    "        new_x, new_y = x, y + 1\n",
    "    elif direction == 2:  # down\n",
    "        new_x, new_y = x + 1, y\n",
    "    else:  # left\n",
    "        new_x, new_y = x, y - 1\n",
    "    \n",
    "    # Apply periodic boundary conditions\n",
    "    new_x_index = new_x % m\n",
    "    new_y_index = new_y % m\n",
    "    \n",
    "    # Check if the new position is empty\n",
    "    if not lattice[new_x_index, new_y_index]:\n",
    "        # Update lattice\n",
    "        lattice[x%m, y%m] = False\n",
    "        lattice[new_x_index, new_y_index] = True\n",
    "        \n",
    "        # Update coordinates\n",
    "        coordinates[particle_idx, 0] = new_x\n",
    "        coordinates[particle_idx, 1] = new_y"
   ]
  },
  {
   "cell_type": "code",
   "execution_count": 24,
   "id": "25ae8c83-60e3-4b53-bbf0-f9b424623e40",
   "metadata": {},
   "outputs": [],
   "source": [
    "def main():\n",
    "    \"\"\" Computes & plots the MSD of a 2D random walk of n particles on an m x m lattice. \"\"\"\n",
    "\n",
    "    m = 31\n",
    "    time_origins = int(1e5)\n",
    "    max_time = 50\n",
    "\n",
    "    fig = plt.figure()\n",
    "    ax = fig.add_subplot(111)\n",
    "\n",
    "    msd = np.zeros(max_time + 1, dtype=float)\n",
    "    number_of_particles = [1,5]\n",
    "\n",
    "    for n in number_of_particles:\n",
    "        print(f\"running for {n} particles\")\n",
    "        lattice, coordinates = build_lattice(n, m)\n",
    "        msd[:] = 0\n",
    "\n",
    "        for origin in range(time_origins):\n",
    "            initial_coordinates = coordinates.copy()\n",
    "            for t in range(1, max_time + 1):\n",
    "                displace(coordinates, n, m, lattice)\n",
    "                displacement = coordinates - initial_coordinates\n",
    "                msd[t] += ((displacement * displacement).sum(1)).mean()\n",
    "\n",
    "        msd /= time_origins\n",
    "        msd *= n # * number of particles, 每个\\tau 时间只动了一个粒子，所以对粒子数目平均后要乘回来\n",
    "        slope = linregress(range(0, max_time + 1), msd).slope\n",
    "        plt.plot(msd, label=f\"n, m = ({n},{m}); slope = {slope:.3f}, theory = {1-n/m**2:.3f}\")\n",
    "\n",
    "    ax.set_title(\"Mean-squared-displacement of a 2d random walk\")\n",
    "    ax.set_xlabel(\"time\")\n",
    "    ax.set_ylabel(\"<r2>\")\n",
    "    ax.set_xlim([0, max_time])\n",
    "    ylims = ax.get_ylim()\n",
    "    ax.set_ylim([0, ylims[1]])\n",
    "    ax.legend()\n",
    "    plt.show()\n",
    "\n",
    "\n",
    "# if __name__ == \"__main__\":\n",
    "#     # main()\n"
   ]
  },
  {
   "cell_type": "markdown",
   "id": "983689d4-956f-4a84-a106-903cc1ff290c",
   "metadata": {},
   "source": [
    "3. Modify the program in such a way that the probability to jump in the x direction is larger than the probability to jump in the y\n",
    "direction.\n",
    "Explain the results."
   ]
  },
  {
   "cell_type": "code",
   "execution_count": 25,
   "id": "13a5a484",
   "metadata": {},
   "outputs": [
    {
     "name": "stdout",
     "output_type": "stream",
     "text": [
      "running for 1 particles\n",
      "running for 5 particles\n"
     ]
    },
    {
     "data": {
      "image/png": "[encoded data removed]",
      "text/plain": [
       "<Figure size 432x288 with 1 Axes>"
      ]
     },
     "metadata": {
      "needs_background": "light"
     },
     "output_type": "display_data"
    }
   ],
   "source": [
    "px = 0.8\n",
    "def displace(coordinates: np.ndarray, n: int, m: int, lattice: np.ndarray) -> None:\n",
    "    particle_idx = np.random.randint(0, n)\n",
    "    x, y = coordinates[particle_idx]\n",
    "    # select the x axis with px\n",
    "    if np.random.rand() < px:\n",
    "        # move in x direction\n",
    "        direction = np.random.choice([-1, 1])\n",
    "        new_x = x + direction\n",
    "        new_y = y\n",
    "    else:\n",
    "        # move in y direction\n",
    "        direction = np.random.choice([-1, 1])\n",
    "        new_x = x\n",
    "        new_y = y + direction\n",
    "\n",
    "    new_x_index = new_x % m\n",
    "    new_y_index = new_y % m\n",
    "    if not lattice[new_x_index, new_y_index]:\n",
    "        lattice[x%m, y%m] = False\n",
    "        lattice[new_x_index, new_y_index] = True\n",
    "        \n",
    "        # Update coordinates\n",
    "        coordinates[particle_idx, 0] = new_x\n",
    "        coordinates[particle_idx, 1] = new_y\n",
    "\n",
    "main()"
   ]
  },
  {
   "cell_type": "markdown",
   "id": "0fcb5ed9-60bf-4402-ae11-14c3932349fc",
   "metadata": {},
   "source": [
    "4. Modify the program in such a way that periodic boundary\n",
    "conditions are used in one direction only, and make the lattice boundaries hard walls in\n",
    "the other directions, so that particles cannot escape, i.e. moves in these directions that cross\n",
    "the lattice boundaries are rejected. What happens?"
   ]
  },
  {
   "cell_type": "code",
   "execution_count": null,
   "id": "0487b58c",
   "metadata": {},
   "outputs": [],
   "source": [
    "def displace(coordinates: np.ndarray, n: int, m: int, lattice: np.ndarray) -> None:\n",
    "    \"\"\"\n",
    "    Randomly select a particle and try to move it in a random direction.\n",
    "    \n",
    "    Args:\n",
    "        coordinates: n x 2 array of particle coordinates\n",
    "        n: number of particles\n",
    "        m: lattice size\n",
    "        lattice: m x m array, True if site is occupied\n",
    "    \"\"\"\n",
    "    # Select a random particle\n",
    "    particle_idx = np.random.randint(0, n)\n",
    "    \n",
    "    # Get current position\n",
    "    x, y = coordinates[particle_idx]\n",
    "    \n",
    "    # Select a random direction (0: up, 1: right, 2: down, 3: left)\n",
    "    direction = np.random.randint(0, 4)\n",
    "    \n",
    "    # Calculate new position based on direction\n",
    "    if direction == 0:  # up\n",
    "        new_x, new_y = x - 1, y\n",
    "    elif direction == 1:  # right\n",
    "        new_x, new_y = x, y + 1\n",
    "    elif direction == 2:  # down\n",
    "        new_x, new_y = x + 1, y\n",
    "    else:  # left\n",
    "        new_x, new_y = x, y - 1\n",
    "    \n",
    "    # Apply periodic boundary conditions\n",
    "    new_x_index = new_x % m\n",
    "    new_y_index = new_y % m\n",
    "    \n",
    "    # Check if the new position is empty\n",
    "    if not lattice[new_x_index, new_y_index]:\n",
    "        # Update lattice\n",
    "        lattice[x%m, y%m] = False\n",
    "        lattice[new_x_index, new_y_index] = True\n",
    "        \n",
    "        # Update coordinates\n",
    "        coordinates[particle_idx, 0] = new_x\n",
    "        coordinates[particle_idx, 1] = new_y"
   ]
  },
  {
   "cell_type": "markdown",
   "id": "66020a9a-865a-4b93-bcd6-c7c9ab7553bf",
   "metadata": {},
   "source": [
    "5. Modify the program in such a way that a certain fraction of the\n",
    "particles are ``frozen''. Investigate the influence of the fraction of\n",
    "frozen particles on the diffusion coefficient."
   ]
  },
  {
   "cell_type": "code",
   "execution_count": null,
   "id": "b4dd2dff",
   "metadata": {},
   "outputs": [],
   "source": []
  }
 ],
 "metadata": {
  "kernelspec": {
   "display_name": "yongjian_conda",
   "language": "python",
   "name": "python3"
  },
  "language_info": {
   "codemirror_mode": {
    "name": "ipython",
    "version": 3
   },
   "file_extension": ".py",
   "mimetype": "text/x-python",
   "name": "python",
   "nbconvert_exporter": "python",
   "pygments_lexer": "ipython3",
   "version": "3.10.16"
  }
 },
 "nbformat": 4,
 "nbformat_minor": 5
}
